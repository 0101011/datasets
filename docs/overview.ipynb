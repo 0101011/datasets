{
  "nbformat": 4,
  "nbformat_minor": 0,
  "metadata": {
    "colab": {
      "name": "tensorflow/datasets",
      "version": "0.3.2",
      "provenance": [],
      "collapsed_sections": []
    }
  },
  "cells": [
    {
      "metadata": {
        "id": "6XvCUmCEd4Dm",
        "colab_type": "text"
      },
      "cell_type": "markdown",
      "source": [
        "# TensorFlow Datasets\n",
        "\n",
        "TensorFlow Datasets provides a collection of datasets ready to use with TensorFlow. It handles downloading and preparing the data and constructing a [`tf.data.Dataset`](https://www.tensorflow.org/api_docs/python/tf/data/Dataset)."
      ]
    },
    {
      "metadata": {
        "id": "J8y9ZkLXmAZc",
        "colab_type": "text"
      },
      "cell_type": "markdown",
      "source": [
        "Copyright 2018 The TensorFlow Datasets Authors, Licensed under the Apache License, Version 2.0"
      ]
    },
    {
      "metadata": {
        "id": "OGw9EgE0tC0C",
        "colab_type": "text"
      },
      "cell_type": "markdown",
      "source": [
        "<table class=\"tfo-notebook-buttons\" align=\"left\">\n",
        "  <td>\n",
        "    <a target=\"_blank\" href=\"https://www.tensorflow.org/datasets/overview\"><img src=\"https://www.tensorflow.org/images/tf_logo_32px.png\" />View on TensorFlow.org</a>\n",
        "  </td>\n",
        "  <td>\n",
        "    <a target=\"_blank\" href=\"https://colab.research.google.com/github/tensorflow/datasets/blob/master/docs/overview.ipynb\"><img src=\"https://www.tensorflow.org/images/colab_logo_32px.png\" />Run in Google Colab</a>\n",
        "  </td>\n",
        "  <td>\n",
        "    <a target=\"_blank\" href=\"https://github.com/tensorflow/datasets/blob/master/docs/overview.ipynb\"><img src=\"https://www.tensorflow.org/images/GitHub-Mark-32px.png\" />View source on GitHub</a>\n",
        "  </td>\n",
        "</table>"
      ]
    },
    {
      "metadata": {
        "id": "_7hshda5eaGL",
        "colab_type": "text"
      },
      "cell_type": "markdown",
      "source": [
        "## Installation\n",
        "\n",
        "`pip install tensorflow-datasets`\n",
        "\n",
        "Note that `tensorflow-datasets` expects you to have TensorFlow already installed, and currently depends on `tf-nightly` (or `tf-nightly-gpu`)."
      ]
    },
    {
      "metadata": {
        "id": "boeZp0sYbO41",
        "colab_type": "code",
        "cellView": "both",
        "colab": {}
      },
      "cell_type": "code",
      "source": [
        "!pip install -q tf-nightly tfds-nightly matplotlib"
      ],
      "execution_count": 0,
      "outputs": []
    },
    {
      "metadata": {
        "id": "TTBSvHcSLBzc",
        "colab_type": "code",
        "colab": {}
      },
      "cell_type": "code",
      "source": [
        "import tensorflow as tf\n",
        "import tensorflow_datasets as tfds\n",
        "import matplotlib.pyplot as plt\n",
        "import numpy as np"
      ],
      "execution_count": 0,
      "outputs": []
    },
    {
      "metadata": {
        "id": "8-ZBEd6Ie28N",
        "colab_type": "text"
      },
      "cell_type": "markdown",
      "source": [
        "## Eager execution\n",
        "\n",
        "TensorFlow Datasets is compatible with both TensorFlow [Eager mode](https://www.tensorflow.org/guide/eager) and Graph mode. For this colab, we'll run in Eager mode."
      ]
    },
    {
      "metadata": {
        "id": "o9H2EiXzfNgO",
        "colab_type": "code",
        "colab": {}
      },
      "cell_type": "code",
      "source": [
        "tf.enable_eager_execution()"
      ],
      "execution_count": 0,
      "outputs": []
    },
    {
      "metadata": {
        "id": "VZZyuO13fPvk",
        "colab_type": "text"
      },
      "cell_type": "markdown",
      "source": [
        "## List the available datasets\n",
        "\n",
        "Each dataset is implemented as a [`tfds.core.DatasetBuilder`](https://www.tensorflow.org/datasets/api_docs/python/tfds/core/DatasetBuilder) and you can list all available builders with `tfds.list_builders()`."
      ]
    },
    {
      "metadata": {
        "id": "FAvbSVzjLCIb",
        "colab_type": "code",
        "outputId": "7fde1048-e073-4de4-ae15-d24bf265d846",
        "colab": {
          "base_uri": "https://localhost:8080/",
          "height": 34
        }
      },
      "cell_type": "code",
      "source": [
        "tfds.list_builders()"
      ],
      "execution_count": 0,
      "outputs": [
        {
          "output_type": "execute_result",
          "data": {
            "text/plain": [
              "['cifar10', 'cifar100', 'fashion_mnist', 'mnist']"
            ]
          },
          "metadata": {
            "tags": []
          },
          "execution_count": 7
        }
      ]
    },
    {
      "metadata": {
        "id": "VjI6VgOBf0v0",
        "colab_type": "text"
      },
      "cell_type": "markdown",
      "source": [
        "## `tfds.load`: A dataset in one line\n",
        "\n",
        "[`tfds.load`](https://www.tensorflow.org/datasets/api_docs/python/tfds/load) is a convenience method that's the simplest way to build and load and `tf.data.Dataset`.\n",
        "\n",
        "Below, we load the MNIST training data. Setting `download=True` will download and prepare the data. Note that it's safe to call `load` multiple times with `download=True` as long as the builder `name` and `data_dir` remain the same. The prepared data will be reused."
      ]
    },
    {
      "metadata": {
        "id": "dCou80mnLLPV",
        "colab_type": "code",
        "outputId": "fa82d4b8-cf09-4913-843e-5f704bd28f20",
        "colab": {
          "base_uri": "https://localhost:8080/",
          "height": 547
        }
      },
      "cell_type": "code",
      "source": [
        "mnist_train = tfds.load(name=\"mnist\", split=tfds.Split.TRAIN)\n",
        "assert isinstance(mnist_train, tf.data.Dataset)\n",
        "mnist_train"
      ],
      "execution_count": 0,
      "outputs": [
        {
          "output_type": "stream",
          "text": [
            "INFO:tensorflow:Generating dataset mnist (/root/tensorflow_datasets/mnist/v_20181108_1841)\n",
            "Downloading / extracting dataset mnist (\u001b[1mNone GB\u001b[0m) to /root/tensorflow_datasets/mnist/v_20181108_1841...\u001b[0m\n",
            "INFO:tensorflow:yann.lecun.com_t10k-labels-idx1-ubyte.gz_957f9: No cached value found.\n",
            "INFO:tensorflow:yann.lecun.com_train-labels-idx1-ubyte.gz_edc73: No cached value found.\n",
            "INFO:tensorflow:yann.lecun.com_t10k-images-idx3-ubyte.gz_82be2: No cached value found.\n",
            "INFO:tensorflow:yann.lecun.com_t10k-images-idx3-ubyte.gz_82be2: Start downloading...\n",
            "INFO:tensorflow:yann.lecun.com_t10k-labels-idx1-ubyte.gz_957f9: Start downloading...\n",
            "INFO:tensorflow:yann.lecun.com_train-images-idx3-ubyte.gz_e66d0: No cached value found.\n",
            "INFO:tensorflow:yann.lecun.com_train-labels-idx1-ubyte.gz_edc73: Start downloading...\n",
            "INFO:tensorflow:yann.lecun.com_train-images-idx3-ubyte.gz_e66d0: Start downloading...\n",
            "INFO:tensorflow:yann.lecun.com_t10k-labels-idx1-ubyte.gz_957f9: Download complete at /root/tensorflow_datasets/tmp/yann.lecun.com_t10k-labels-idx1-ubyte.gz_957f9.incomplete/t10k-labels-idx1-ubyte.gz\n",
            "INFO:tensorflow:yann.lecun.com_train-labels-idx1-ubyte.gz_edc73: Download complete at /root/tensorflow_datasets/tmp/yann.lecun.com_train-labels-idx1-ubyte.gz_edc73.incomplete/train-labels-idx1-ubyte.gz\n",
            "INFO:tensorflow:yann.lecun.com_t10k-images-idx3-ubyte.gz_82be2: Download complete at /root/tensorflow_datasets/tmp/yann.lecun.com_t10k-images-idx3-ubyte.gz_82be2.incomplete/t10k-images-idx3-ubyte.gz\n",
            "INFO:tensorflow:yann.lecun.com_train-images-idx3-ubyte.gz_e66d0: Download complete at /root/tensorflow_datasets/tmp/yann.lecun.com_train-images-idx3-ubyte.gz_e66d0.incomplete/train-images-idx3-ubyte.gz\n",
            "INFO:tensorflow:yann.lecun.com_train-labels-idx1-ubyte.gz_edc73_train-labels-idx1-ubyte.gz_5f062: No cached value found.\n",
            "INFO:tensorflow:yann.lecun.com_train-labels-idx1-ubyte.gz_edc73_train-labels-idx1-ubyte.gz_5f062: Extract /root/tensorflow_datasets/tmp/yann.lecun.com_train-labels-idx1-ubyte.gz_edc73/train-labels-idx1-ubyte.gz with extract_gzip...\n",
            "INFO:tensorflow:yann.lecun.com_t10k-labels-idx1-ubyte.gz_957f9_t10k-labels-idx1-ubyte.gz_09c7c: No cached value found.\n",
            "INFO:tensorflow:yann.lecun.com_t10k-labels-idx1-ubyte.gz_957f9_t10k-labels-idx1-ubyte.gz_09c7c: Extract /root/tensorflow_datasets/tmp/yann.lecun.com_t10k-labels-idx1-ubyte.gz_957f9/t10k-labels-idx1-ubyte.gz with extract_gzip...\n",
            "INFO:tensorflow:yann.lecun.com_t10k-images-idx3-ubyte.gz_82be2_t10k-images-idx3-ubyte.gz_bae05: No cached value found.\n",
            "INFO:tensorflow:yann.lecun.com_t10k-images-idx3-ubyte.gz_82be2_t10k-images-idx3-ubyte.gz_bae05: Extract /root/tensorflow_datasets/tmp/yann.lecun.com_t10k-images-idx3-ubyte.gz_82be2/t10k-images-idx3-ubyte.gz with extract_gzip...\n",
            "INFO:tensorflow:yann.lecun.com_train-images-idx3-ubyte.gz_e66d0_train-images-idx3-ubyte.gz_9bbf7: No cached value found.\n",
            "INFO:tensorflow:yann.lecun.com_train-images-idx3-ubyte.gz_e66d0_train-images-idx3-ubyte.gz_9bbf7: Extract /root/tensorflow_datasets/tmp/yann.lecun.com_train-images-idx3-ubyte.gz_e66d0/train-images-idx3-ubyte.gz with extract_gzip...\n",
            "INFO:tensorflow:Writing TFRecords\n"
          ],
          "name": "stdout"
        },
        {
          "output_type": "stream",
          "text": [
            "60000 records [00:18, 3172.28 records/s]"
          ],
          "name": "stderr"
        },
        {
          "output_type": "stream",
          "text": [
            "INFO:tensorflow:Writing TFRecords\n"
          ],
          "name": "stdout"
        },
        {
          "output_type": "stream",
          "text": [
            "\n",
            "10000 records [00:03, 3140.85 records/s]\n"
          ],
          "name": "stderr"
        },
        {
          "output_type": "stream",
          "text": [
            "WARNING:tensorflow:From /usr/local/lib/python2.7/dist-packages/tensorflow/python/ops/control_flow_ops.py:428: colocate_with (from tensorflow.python.framework.ops) is deprecated and will be removed in a future version.\n",
            "Instructions for updating:\n",
            "Colocations handled automatically by placer.\n"
          ],
          "name": "stdout"
        },
        {
          "output_type": "execute_result",
          "data": {
            "text/plain": [
              "<MapDataset shapes: {image: <unknown>, label: ()}, types: {image: tf.uint8, label: tf.int64}>"
            ]
          },
          "metadata": {
            "tags": []
          },
          "execution_count": 8
        }
      ]
    },
    {
      "metadata": {
        "id": "u-GAxR79hGTr",
        "colab_type": "text"
      },
      "cell_type": "markdown",
      "source": [
        "## Feature dictionaries\n",
        "\n",
        "All `tfds` datasets contain feature dictionaries mapping feature names to Tensor values. A typical dataset, like MNIST, will have 2 keys: `\"image\"` and `\"label\"`. Below we inspect a single record."
      ]
    },
    {
      "metadata": {
        "id": "YHE21nkHLrER",
        "colab_type": "code",
        "outputId": "50f77631-baac-4f35-8d6a-210772953d6d",
        "colab": {
          "base_uri": "https://localhost:8080/",
          "height": 364
        }
      },
      "cell_type": "code",
      "source": [
        "mnist_example, = mnist_train.take(1)\n",
        "image, label = mnist_example[\"image\"], mnist_example[\"label\"]\n",
        "\n",
        "plt.imshow(image.numpy()[:, :, 0].astype(np.float32), cmap=plt.get_cmap('gray'))\n",
        "print(\"Label: %d\" % label.numpy())"
      ],
      "execution_count": 0,
      "outputs": [
        {
          "output_type": "stream",
          "text": [
            "Label: 6\n"
          ],
          "name": "stdout"
        },
        {
          "output_type": "display_data",
          "data": {
            "image/png": "[encoded data removed]",
            "text/plain": [
              "<matplotlib.figure.Figure at 0x7fb441a4f0d0>"
            ]
          },
          "metadata": {
            "tags": []
          }
        }
      ]
    },
    {
      "metadata": {
        "id": "EW-kEK_mhbhy",
        "colab_type": "text"
      },
      "cell_type": "markdown",
      "source": [
        "## `DatasetBuilder`\n",
        "\n",
        "`tfds.load` is really a thin conveninence wrapper around `DatasetBuilder`. We can accomplish the same as above directly with the MNIST `DatasetBuilder`."
      ]
    },
    {
      "metadata": {
        "id": "9FDDJXmBhpQ4",
        "colab_type": "code",
        "outputId": "0f63df2a-6ccc-4b9c-c115-272695e5afa8",
        "colab": {
          "base_uri": "https://localhost:8080/",
          "height": 51
        }
      },
      "cell_type": "code",
      "source": [
        "mnist_builder = tfds.builder(\"mnist\")\n",
        "mnist_builder.download_and_prepare()\n",
        "mnist_train = mnist_builder.as_dataset(split=tfds.Split.TRAIN)\n",
        "mnist_train"
      ],
      "execution_count": 0,
      "outputs": [
        {
          "output_type": "stream",
          "text": [
            "INFO:tensorflow:Reusing dataset mnist (/root/tensorflow_datasets/mnist/v_20181108_1841)\n"
          ],
          "name": "stdout"
        },
        {
          "output_type": "execute_result",
          "data": {
            "text/plain": [
              "<MapDataset shapes: {image: <unknown>, label: ()}, types: {image: tf.uint8, label: tf.int64}>"
            ]
          },
          "metadata": {
            "tags": []
          },
          "execution_count": 10
        }
      ]
    },
    {
      "metadata": {
        "id": "7tlVOAzLlKqc",
        "colab_type": "text"
      },
      "cell_type": "markdown",
      "source": [
        "## Input pipelines\n",
        "\n",
        "Once you have a `tf.data.Dataset` object, it's simple to define the rest of an input pipeline suitable for model training by using the [`tf.data` API](https://www.tensorflow.org/guide/datasets).\n",
        "\n",
        "Here we'll repeat the dataset so that we have an infinite stream of examples, shuffle, and create batches of 32."
      ]
    },
    {
      "metadata": {
        "id": "9OQZqGZMlSE8",
        "colab_type": "code",
        "colab": {}
      },
      "cell_type": "code",
      "source": [
        "mnist_train = mnist_train.repeat().shuffle(1024).batch(32)\n",
        "\n",
        "# prefetch will enable the input pipeline to asynchronously fetch batches while\n",
        "# your model is training.\n",
        "mnist_train = mnist_train.prefetch(tf.data.experimental.AUTOTUNE)\n",
        "\n",
        "# Now you could loop over batches of the dataset and train\n",
        "# for batch in mnist_train:\n",
        "#   ..."
      ],
      "execution_count": 0,
      "outputs": []
    }
  ]
}
