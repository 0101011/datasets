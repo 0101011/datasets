{
  "cells": [
    {
      "cell_type": "markdown",
      "metadata": {
        "colab_type": "text",
        "id": "6XvCUmCEd4Dm"
      },
      "source": [
        "# TensorFlow Datasets\n",
        "\n",
        "TensorFlow Datasets provides a collection of datasets ready to use with TensorFlow. It handles downloading and preparing the data and constructing a [`tf.data.Dataset`](https://www.tensorflow.org/api_docs/python/tf/data/Dataset)."
      ]
    },
    {
      "cell_type": "markdown",
      "metadata": {
        "colab_type": "text",
        "id": "J8y9ZkLXmAZc"
      },
      "source": [
        "Copyright 2018 The TensorFlow Datasets Authors, Licensed under the Apache License, Version 2.0"
      ]
    },
    {
      "cell_type": "markdown",
      "metadata": {
        "colab_type": "text",
        "id": "OGw9EgE0tC0C"
      },
      "source": [
        "\u003ctable class=\"tfo-notebook-buttons\" align=\"left\"\u003e\n",
        "  \u003ctd\u003e\n",
        "    \u003ca target=\"_blank\" href=\"https://www.tensorflow.org/datasets/overview\"\u003e\u003cimg src=\"https://www.tensorflow.org/images/tf_logo_32px.png\" /\u003eView on TensorFlow.org\u003c/a\u003e\n",
        "  \u003c/td\u003e\n",
        "  \u003ctd\u003e\n",
        "    \u003ca target=\"_blank\" href=\"https://colab.research.google.com/github/tensorflow/datasets/blob/master/docs/overview.ipynb\"\u003e\u003cimg src=\"https://www.tensorflow.org/images/colab_logo_32px.png\" /\u003eRun in Google Colab\u003c/a\u003e\n",
        "  \u003c/td\u003e\n",
        "  \u003ctd\u003e\n",
        "    \u003ca target=\"_blank\" href=\"https://github.com/tensorflow/datasets/blob/master/docs/overview.ipynb\"\u003e\u003cimg src=\"https://www.tensorflow.org/images/GitHub-Mark-32px.png\" /\u003eView source on GitHub\u003c/a\u003e\n",
        "  \u003c/td\u003e\n",
        "\u003c/table\u003e"
      ]
    },
    {
      "cell_type": "markdown",
      "metadata": {
        "colab_type": "text",
        "id": "_7hshda5eaGL"
      },
      "source": [
        "## Installation\n",
        "\n",
        "`pip install tensorflow-datasets`\n",
        "\n",
        "Note that `tensorflow-datasets` expects you to have TensorFlow already installed, and currently depends on `tf-nightly` (or `tf-nightly-gpu`)."
      ]
    },
    {
      "cell_type": "code",
      "execution_count": 0,
      "metadata": {
        "cellView": "both",
        "colab": {},
        "colab_type": "code",
        "id": "boeZp0sYbO41"
      },
      "outputs": [],
      "source": [
        "!pip install -q tf-nightly tfds-nightly matplotlib"
      ]
    },
    {
      "cell_type": "code",
      "execution_count": 0,
      "metadata": {
        "colab": {},
        "colab_type": "code",
        "id": "TTBSvHcSLBzc"
      },
      "outputs": [],
      "source": [
        "from __future__ import print_function\n",
        "\n",
        "import matplotlib.pyplot as plt\n",
        "import numpy as np\n",
        "import tensorflow as tf\n",
        "\n",
        "import tensorflow_datasets as tfds"
      ]
    },
    {
      "cell_type": "markdown",
      "metadata": {
        "colab_type": "text",
        "id": "8-ZBEd6Ie28N"
      },
      "source": [
        "## Eager execution\n",
        "\n",
        "TensorFlow Datasets is compatible with both TensorFlow [Eager mode](https://www.tensorflow.org/guide/eager) and Graph mode. For this colab, we'll run in Eager mode."
      ]
    },
    {
      "cell_type": "code",
      "execution_count": 0,
      "metadata": {
        "colab": {},
        "colab_type": "code",
        "id": "o9H2EiXzfNgO"
      },
      "outputs": [],
      "source": [
        "tf.enable_eager_execution()"
      ]
    },
    {
      "cell_type": "markdown",
      "metadata": {
        "colab_type": "text",
        "id": "VZZyuO13fPvk"
      },
      "source": [
        "## List the available datasets\n",
        "\n",
        "Each dataset is implemented as a [`tfds.core.DatasetBuilder`](https://www.tensorflow.org/datasets/api_docs/python/tfds/core/DatasetBuilder) and you can list all available builders with `tfds.list_builders()`."
      ]
    },
    {
      "cell_type": "code",
      "execution_count": 0,
      "metadata": {
        "colab": {
          "height": 179
        },
        "colab_type": "code",
        "executionInfo": {
          "elapsed": 164,
          "status": "ok",
          "timestamp": 1544024137878,
          "user": {
            "displayName": "",
            "photoUrl": "",
            "userId": ""
          },
          "user_tz": -60
        },
        "id": "FAvbSVzjLCIb",
        "outputId": "39e75a30-0d02-41d2-e629-fbbf8e836332"
      },
      "outputs": [
        {
          "data": {
            "text/plain": [
              "['bair_robot_pushing',\n",
              " 'celeb_a',\n",
              " 'cifar10',\n",
              " 'cifar100',\n",
              " 'diabetic_retinopathy_detection',\n",
              " 'fashion_mnist',\n",
              " 'image_label_folder',\n",
              " 'imdb_reviews',\n",
              " 'mnist']"
            ]
          },
          "execution_count": 3,
          "metadata": {
            "tags": []
          },
          "output_type": "execute_result"
        }
      ],
      "source": [
        "tfds.list_builders()"
      ]
    },
    {
      "cell_type": "markdown",
      "metadata": {
        "colab_type": "text",
        "id": "VjI6VgOBf0v0"
      },
      "source": [
        "## `tfds.load`: A dataset in one line\n",
        "\n",
        "[`tfds.load`](https://www.tensorflow.org/datasets/api_docs/python/tfds/load) is a convenience method that's the simplest way to build and load and `tf.data.Dataset`.\n",
        "\n",
        "Below, we load the MNIST training data. Setting `download=True` will download and prepare the data. Note that it's safe to call `load` multiple times with `download=True` as long as the builder `name` and `data_dir` remain the same. The prepared data will be reused."
      ]
    },
    {
      "cell_type": "code",
      "execution_count": 0,
      "metadata": {
        "colab": {
          "base_uri": "https://localhost:8080/",
          "height": 547
        },
        "colab_type": "code",
        "id": "dCou80mnLLPV",
        "outputId": "fa82d4b8-cf09-4913-843e-5f704bd28f20"
      },
      "outputs": [
        {
          "name": "stdout",
          "output_type": "stream",
          "text": [
            "INFO:tensorflow:Generating dataset mnist (/root/tensorflow_datasets/mnist/v_20181108_1841)\n",
            "Downloading / extracting dataset mnist (\u001b[1mNone GB\u001b[0m) to /root/tensorflow_datasets/mnist/v_20181108_1841...\u001b[0m\n",
            "INFO:tensorflow:yann.lecun.com_t10k-labels-idx1-ubyte.gz_957f9: No cached value found.\n",
            "INFO:tensorflow:yann.lecun.com_train-labels-idx1-ubyte.gz_edc73: No cached value found.\n",
            "INFO:tensorflow:yann.lecun.com_t10k-images-idx3-ubyte.gz_82be2: No cached value found.\n",
            "INFO:tensorflow:yann.lecun.com_t10k-images-idx3-ubyte.gz_82be2: Start downloading...\n",
            "INFO:tensorflow:yann.lecun.com_t10k-labels-idx1-ubyte.gz_957f9: Start downloading...\n",
            "INFO:tensorflow:yann.lecun.com_train-images-idx3-ubyte.gz_e66d0: No cached value found.\n",
            "INFO:tensorflow:yann.lecun.com_train-labels-idx1-ubyte.gz_edc73: Start downloading...\n",
            "INFO:tensorflow:yann.lecun.com_train-images-idx3-ubyte.gz_e66d0: Start downloading...\n",
            "INFO:tensorflow:yann.lecun.com_t10k-labels-idx1-ubyte.gz_957f9: Download complete at /root/tensorflow_datasets/tmp/yann.lecun.com_t10k-labels-idx1-ubyte.gz_957f9.incomplete/t10k-labels-idx1-ubyte.gz\n",
            "INFO:tensorflow:yann.lecun.com_train-labels-idx1-ubyte.gz_edc73: Download complete at /root/tensorflow_datasets/tmp/yann.lecun.com_train-labels-idx1-ubyte.gz_edc73.incomplete/train-labels-idx1-ubyte.gz\n",
            "INFO:tensorflow:yann.lecun.com_t10k-images-idx3-ubyte.gz_82be2: Download complete at /root/tensorflow_datasets/tmp/yann.lecun.com_t10k-images-idx3-ubyte.gz_82be2.incomplete/t10k-images-idx3-ubyte.gz\n",
            "INFO:tensorflow:yann.lecun.com_train-images-idx3-ubyte.gz_e66d0: Download complete at /root/tensorflow_datasets/tmp/yann.lecun.com_train-images-idx3-ubyte.gz_e66d0.incomplete/train-images-idx3-ubyte.gz\n",
            "INFO:tensorflow:yann.lecun.com_train-labels-idx1-ubyte.gz_edc73_train-labels-idx1-ubyte.gz_5f062: No cached value found.\n",
            "INFO:tensorflow:yann.lecun.com_train-labels-idx1-ubyte.gz_edc73_train-labels-idx1-ubyte.gz_5f062: Extract /root/tensorflow_datasets/tmp/yann.lecun.com_train-labels-idx1-ubyte.gz_edc73/train-labels-idx1-ubyte.gz with extract_gzip...\n",
            "INFO:tensorflow:yann.lecun.com_t10k-labels-idx1-ubyte.gz_957f9_t10k-labels-idx1-ubyte.gz_09c7c: No cached value found.\n",
            "INFO:tensorflow:yann.lecun.com_t10k-labels-idx1-ubyte.gz_957f9_t10k-labels-idx1-ubyte.gz_09c7c: Extract /root/tensorflow_datasets/tmp/yann.lecun.com_t10k-labels-idx1-ubyte.gz_957f9/t10k-labels-idx1-ubyte.gz with extract_gzip...\n",
            "INFO:tensorflow:yann.lecun.com_t10k-images-idx3-ubyte.gz_82be2_t10k-images-idx3-ubyte.gz_bae05: No cached value found.\n",
            "INFO:tensorflow:yann.lecun.com_t10k-images-idx3-ubyte.gz_82be2_t10k-images-idx3-ubyte.gz_bae05: Extract /root/tensorflow_datasets/tmp/yann.lecun.com_t10k-images-idx3-ubyte.gz_82be2/t10k-images-idx3-ubyte.gz with extract_gzip...\n",
            "INFO:tensorflow:yann.lecun.com_train-images-idx3-ubyte.gz_e66d0_train-images-idx3-ubyte.gz_9bbf7: No cached value found.\n",
            "INFO:tensorflow:yann.lecun.com_train-images-idx3-ubyte.gz_e66d0_train-images-idx3-ubyte.gz_9bbf7: Extract /root/tensorflow_datasets/tmp/yann.lecun.com_train-images-idx3-ubyte.gz_e66d0/train-images-idx3-ubyte.gz with extract_gzip...\n",
            "INFO:tensorflow:Writing TFRecords\n"
          ]
        },
        {
          "name": "stderr",
          "output_type": "stream",
          "text": [
            "60000 examples [00:18, 3172.28 examples/s]"
          ]
        },
        {
          "name": "stdout",
          "output_type": "stream",
          "text": [
            "INFO:tensorflow:Writing TFRecords\n"
          ]
        },
        {
          "name": "stderr",
          "output_type": "stream",
          "text": [
            "\n",
            "10000 examples [00:03, 3140.85 examples/s]\n"
          ]
        },
        {
          "name": "stdout",
          "output_type": "stream",
          "text": [
            "WARNING:tensorflow:From /usr/local/lib/python2.7/dist-packages/tensorflow/python/ops/control_flow_ops.py:428: colocate_with (from tensorflow.python.framework.ops) is deprecated and will be removed in a future version.\n",
            "Instructions for updating:\n",
            "Colocations handled automatically by placer.\n"
          ]
        },
        {
          "data": {
            "text/plain": [
              "\u003cDatasetV1Adapter shapes: {label: (), image: (28, 28, 1)}, types: {label: tf.int64, image: tf.uint8}\u003e"
            ]
          },
          "execution_count": 8,
          "metadata": {
            "tags": []
          },
          "output_type": "execute_result"
        }
      ],
      "source": [
        "mnist_train = tfds.load(name=\"mnist\", split=tfds.Split.TRAIN)\n",
        "assert isinstance(mnist_train, tf.data.Dataset)\n",
        "mnist_train"
      ]
    },
    {
      "cell_type": "markdown",
      "metadata": {
        "colab_type": "text",
        "id": "u-GAxR79hGTr"
      },
      "source": [
        "## Feature dictionaries\n",
        "\n",
        "All `tfds` datasets contain feature dictionaries mapping feature names to Tensor values. A typical dataset, like MNIST, will have 2 keys: `\"image\"` and `\"label\"`. Below we inspect a single example."
      ]
    },
    {
      "cell_type": "code",
      "execution_count": 0,
      "metadata": {
        "colab": {
          "base_uri": "https://localhost:8080/",
          "height": 364
        },
        "colab_type": "code",
        "id": "YHE21nkHLrER",
        "outputId": "50f77631-baac-4f35-8d6a-210772953d6d"
      },
      "outputs": [
        {
          "name": "stdout",
          "output_type": "stream",
          "text": [
            "Label: 6\n"
          ]
        },
        {
          "data": {
            "image/png": "[encoded data removed]",
            "text/plain": [
              "\u003cmatplotlib.figure.Figure at 0x7fb441a4f0d0\u003e"
            ]
          },
          "metadata": {
            "tags": []
          },
          "output_type": "display_data"
        }
      ],
      "source": [
        "mnist_example, = mnist_train.take(1)\n",
        "image, label = mnist_example[\"image\"], mnist_example[\"label\"]\n",
        "\n",
        "plt.imshow(image.numpy()[:, :, 0].astype(np.float32), cmap=plt.get_cmap('gray'))\n",
        "print(\"Label: %d\" % label.numpy())"
      ]
    },
    {
      "cell_type": "markdown",
      "metadata": {
        "colab_type": "text",
        "id": "EW-kEK_mhbhy"
      },
      "source": [
        "## `DatasetBuilder`\n",
        "\n",
        "`tfds.load` is really a thin conveninence wrapper around `DatasetBuilder`. We can accomplish the same as above directly with the MNIST `DatasetBuilder`."
      ]
    },
    {
      "cell_type": "code",
      "execution_count": 0,
      "metadata": {
        "colab": {
          "base_uri": "https://localhost:8080/",
          "height": 51
        },
        "colab_type": "code",
        "id": "9FDDJXmBhpQ4",
        "outputId": "0f63df2a-6ccc-4b9c-c115-272695e5afa8"
      },
      "outputs": [
        {
          "name": "stdout",
          "output_type": "stream",
          "text": [
            "INFO:tensorflow:Reusing dataset mnist (/root/tensorflow_datasets/mnist/v_20181108_1841)\n"
          ]
        },
        {
          "data": {
            "text/plain": [
              "\u003cDatasetV1Adapter shapes: {label: (), image: (28, 28, 1)}, types: {label: tf.int64, image: tf.uint8}\u003e"
            ]
          },
          "execution_count": 10,
          "metadata": {
            "tags": []
          },
          "output_type": "execute_result"
        }
      ],
      "source": [
        "mnist_builder = tfds.builder(\"mnist\")\n",
        "mnist_builder.download_and_prepare()\n",
        "mnist_train = mnist_builder.as_dataset(split=tfds.Split.TRAIN)\n",
        "mnist_train"
      ]
    },
    {
      "cell_type": "markdown",
      "metadata": {
        "colab_type": "text",
        "id": "7tlVOAzLlKqc"
      },
      "source": [
        "## Input pipelines\n",
        "\n",
        "Once you have a `tf.data.Dataset` object, it's simple to define the rest of an input pipeline suitable for model training by using the [`tf.data` API](https://www.tensorflow.org/guide/datasets).\n",
        "\n",
        "Here we'll repeat the dataset so that we have an infinite stream of examples, shuffle, and create batches of 32."
      ]
    },
    {
      "cell_type": "code",
      "execution_count": 0,
      "metadata": {
        "colab": {},
        "colab_type": "code",
        "id": "9OQZqGZMlSE8"
      },
      "outputs": [],
      "source": [
        "mnist_train = mnist_train.repeat().shuffle(1024).batch(32)\n",
        "\n",
        "# prefetch will enable the input pipeline to asynchronously fetch batches while\n",
        "# your model is training.\n",
        "mnist_train = mnist_train.prefetch(tf.data.experimental.AUTOTUNE)\n",
        "\n",
        "# Now you could loop over batches of the dataset and train\n",
        "# for batch in mnist_train:\n",
        "#   ..."
      ]
    },
    {
      "cell_type": "markdown",
      "metadata": {
        "colab_type": "text",
        "id": "uczpNuc_A7wE"
      },
      "source": [
        "## DatasetInfo\n",
        "\n",
        "After generation, the builder will contains useful informations on the dataset:"
      ]
    },
    {
      "cell_type": "code",
      "execution_count": 0,
      "metadata": {
        "colab": {
          "height": 305
        },
        "colab_type": "code",
        "executionInfo": {
          "elapsed": 205,
          "status": "ok",
          "timestamp": 1544024257536,
          "user": {
            "displayName": "",
            "photoUrl": "",
            "userId": ""
          },
          "user_tz": -60
        },
        "id": "mSamfFznA9Ph",
        "outputId": "47a502ed-cab2-4372-a5b3-a3cd0c7fb653"
      },
      "outputs": [
        {
          "name": "stdout",
          "output_type": "stream",
          "text": [
            "mnist\n",
            "\n",
            "1.0.0\n",
            "The MNIST database of handwritten digits, has a training set of 60,000 examples, and a test set of 10,000 examples.\n",
            "Y. Lecun and C. Cortes, \"The MNIST database of handwritten digits,\" 1998.\n",
            "[Online]. Available: http://yann.lecun.com/exdb/mnist/\n",
            "\n",
            "FeaturesDict({'image': Image(shape=(28, 28, 1), dtype=tf.uint8), 'label': ClassLabel(shape=(), dtype=tf.int64)})\n",
            "{'image': (28, 28, 1), 'label': ()}\n",
            "(28, 28, 1)\n",
            "10\n",
            "\n",
            "70000\n",
            "[u'train', u'test']\n",
            "60000\n",
            "10000\n"
          ]
        }
      ],
      "source": [
        "mnist_info = mnist_builder.info\n",
        "\n",
        "print(mnist_info.name)\n",
        "print()\n",
        "print(mnist_info.version)\n",
        "print(mnist_info.description)\n",
        "print(mnist_info.citation)\n",
        "print()\n",
        "print(mnist_info.features)\n",
        "print(mnist_info.features.shape)  # Shape of all features, as returned by as_dataset\n",
        "print(mnist_info.features['image'].shape)  # Image shape\n",
        "print(mnist_info.features['label'].num_classes)  # Number of labels\n",
        "print()\n",
        "print(mnist_info.num_examples)  # Total number of samples\n",
        "print(list(mnist_info.splits.keys()))  # All available splits\n",
        "print(mnist_info.splits['train'].num_examples)  # Number of train split\n",
        "print(mnist_info.splits['test'].num_examples)  # Number of train split"
      ]
    },
    {
      "cell_type": "markdown",
      "metadata": {
        "colab_type": "text",
        "id": "xbrm0WBmBLEI"
      },
      "source": [
        "Note: you can load the information directly with `tfds.load` using `with_info=True`"
      ]
    },
    {
      "cell_type": "code",
      "execution_count": 0,
      "metadata": {
        "colab": {
          "height": 35
        },
        "colab_type": "code",
        "executionInfo": {
          "elapsed": 2980,
          "status": "ok",
          "timestamp": 1544024646084,
          "user": {
            "displayName": "",
            "photoUrl": "",
            "userId": ""
          },
          "user_tz": -60
        },
        "id": "tvZYujQwBL7B",
        "outputId": "cbe46639-971b-4831-d3d8-a33d49b201c7"
      },
      "outputs": [
        {
          "data": {
            "text/plain": [
              "u'1.0.0'"
            ]
          },
          "execution_count": 8,
          "metadata": {
            "tags": []
          },
          "output_type": "execute_result"
        }
      ],
      "source": [
        "ds, ds_info = tfds.load('mnist', split='test', with_info=True)\n",
        "ds_info.version"
      ]
    }
  ],
  "metadata": {
    "colab": {
      "collapsed_sections": [],
      "name": "tensorflow/datasets",
      "provenance": [],
      "version": "0.3.2"
    }
  },
  "nbformat": 4,
  "nbformat_minor": 0
}
