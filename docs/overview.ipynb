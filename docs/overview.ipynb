{
  "nbformat": 4,
  "nbformat_minor": 0,
  "metadata": {
    "colab": {
      "name": "tensorflow/datasets",
      "version": "0.3.2",
      "provenance": [],
      "collapsed_sections": []
    }
  },
  "cells": [
    {
      "metadata": {
        "id": "6XvCUmCEd4Dm",
        "colab_type": "text"
      },
      "cell_type": "markdown",
      "source": [
        "# TensorFlow Datasets\n",
        "\n",
        "TensorFlow Datasets provides a collection of datasets ready to use with TensorFlow. It handles downloading and preparing the data and constructing a [`tf.data.Dataset`](https://www.tensorflow.org/api_docs/python/tf/data/Dataset)."
      ]
    },
    {
      "metadata": {
        "id": "ZC_oAq7aK_-F",
        "colab_type": "code",
        "colab": {},
        "cellView": "form"
      },
      "cell_type": "code",
      "source": [
        "#@title Copyright 2018 The TensorFlow Datasets Authors, Licensed under the Apache License, Version 2.0 (show header)\n",
        "# Copyright 2018 The TensorFlow Datasets Authors.\n",
        "#\n",
        "# Licensed under the Apache License, Version 2.0 (the \"License\");\n",
        "# you may not use this file except in compliance with the License.\n",
        "# You may obtain a copy of the License at\n",
        "#\n",
        "#     http://www.apache.org/licenses/LICENSE-2.0\n",
        "#\n",
        "# Unless required by applicable law or agreed to in writing, software\n",
        "# distributed under the License is distributed on an \"AS IS\" BASIS,\n",
        "# WITHOUT WARRANTIES OR CONDITIONS OF ANY KIND, either express or implied.\n",
        "# See the License for the specific language governing permissions and\n",
        "# limitations under the License."
      ],
      "execution_count": 0,
      "outputs": []
    },
    {
      "metadata": {
        "id": "_7hshda5eaGL",
        "colab_type": "text"
      },
      "cell_type": "markdown",
      "source": [
        "## Installation\n",
        "\n",
        "`pip install tensorflow-datasets`\n",
        "\n",
        "Note that `tensorflow-datasets` expects you to have TensorFlow already installed, and currently depends on `tf-nightly` (or `tf-nightly-gpu`)."
      ]
    },
    {
      "metadata": {
        "id": "boeZp0sYbO41",
        "colab_type": "code",
        "colab": {},
        "cellView": "both"
      },
      "cell_type": "code",
      "source": [
        "!pip install -q tf-nightly tensorflow-datasets matplotlib"
      ],
      "execution_count": 0,
      "outputs": []
    },
    {
      "metadata": {
        "id": "TTBSvHcSLBzc",
        "colab_type": "code",
        "colab": {
          "base_uri": "https://localhost:8080/",
          "height": 139
        },
        "outputId": "0e0efa7f-cb70-4f6b-cfdc-5052c96f64cd"
      },
      "cell_type": "code",
      "source": [
        "import tensorflow as tf\n",
        "import tensorflow_datasets as tfds\n",
        "import matplotlib.pyplot as plt\n",
        "import numpy as np\n",
        "\n",
        "DATA_DIR=\"~/tensorflow_datasets/data\""
      ],
      "execution_count": 4,
      "outputs": [
        {
          "output_type": "stream",
          "text": [
            "WARNING:tensorflow:From /usr/local/lib/python2.7/dist-packages/tensorflow/python/ops/distributions/distribution.py:265: __init__ (from tensorflow.python.ops.distributions.distribution) is deprecated and will be removed after 2019-01-01.\n",
            "Instructions for updating:\n",
            "The TensorFlow Distributions library has moved to TensorFlow Probability (https://github.com/tensorflow/probability). You should update all references to use `tfp.distributions` instead of `tf.distributions`.\n",
            "WARNING:tensorflow:From /usr/local/lib/python2.7/dist-packages/tensorflow/python/ops/distributions/bernoulli.py:169: __init__ (from tensorflow.python.ops.distributions.kullback_leibler) is deprecated and will be removed after 2019-01-01.\n",
            "Instructions for updating:\n",
            "The TensorFlow Distributions library has moved to TensorFlow Probability (https://github.com/tensorflow/probability). You should update all references to use `tfp.distributions` instead of `tf.distributions`.\n"
          ],
          "name": "stdout"
        }
      ]
    },
    {
      "metadata": {
        "id": "8-ZBEd6Ie28N",
        "colab_type": "text"
      },
      "cell_type": "markdown",
      "source": [
        "## Eager execution\n",
        "\n",
        "TensorFlow Datasets is compatible with both TensorFlow [Eager mode](https://www.tensorflow.org/guide/eager) and Graph mode. For this colab, we'll run in Eager mode."
      ]
    },
    {
      "metadata": {
        "id": "o9H2EiXzfNgO",
        "colab_type": "code",
        "colab": {}
      },
      "cell_type": "code",
      "source": [
        "tf.enable_eager_execution()"
      ],
      "execution_count": 0,
      "outputs": []
    },
    {
      "metadata": {
        "id": "VZZyuO13fPvk",
        "colab_type": "text"
      },
      "cell_type": "markdown",
      "source": [
        "## List the available datasets\n",
        "\n",
        "Each dataset is implemented as a [`tfds.DatasetBuilder`](https://www.tensorflow.org/datasets/api_docs/python/tfds/DatasetBuilder) and you can list all available builders with `tfds.list_builders()`."
      ]
    },
    {
      "metadata": {
        "id": "FAvbSVzjLCIb",
        "colab_type": "code",
        "colab": {
          "base_uri": "https://localhost:8080/",
          "height": 34
        },
        "outputId": "6ee20fb4-0836-4aef-a2d3-b6049ee743ca"
      },
      "cell_type": "code",
      "source": [
        "tfds.list_builders()"
      ],
      "execution_count": 6,
      "outputs": [
        {
          "output_type": "execute_result",
          "data": {
            "text/plain": [
              "['cifar10', 'cifar100', 'fashion_mnist', 'mnist']"
            ]
          },
          "metadata": {
            "tags": []
          },
          "execution_count": 6
        }
      ]
    },
    {
      "metadata": {
        "id": "VjI6VgOBf0v0",
        "colab_type": "text"
      },
      "cell_type": "markdown",
      "source": [
        "## `tfds.load`: A dataset in one line\n",
        "\n",
        "[`tfds.load`](https://www.tensorflow.org/datasets/api_docs/python/tfds/load) is a convenience method that's the simplest way to build and load and `tf.data.Dataset`.\n",
        "\n",
        "Below, we load the MNIST training data. Setting `download=True` will download and prepare the data. Note that it's safe to call `load` multiple times with `download=True` as long as the builder `name` and `data_dir` remain the same. The prepared data will be reused."
      ]
    },
    {
      "metadata": {
        "id": "dCou80mnLLPV",
        "colab_type": "code",
        "colab": {
          "base_uri": "https://localhost:8080/",
          "height": 68
        },
        "outputId": "69fe294f-3a6c-48ed-ca36-1d3085c84d64"
      },
      "cell_type": "code",
      "source": [
        "mnist_train = tfds.load(name=\"mnist\",\n",
        "                        split=tfds.Split.TRAIN,\n",
        "                        data_dir=DATA_DIR,\n",
        "                        download=True)\n",
        "assert isinstance(mnist_train, tf.data.Dataset)\n",
        "mnist_train"
      ],
      "execution_count": 7,
      "outputs": [
        {
          "output_type": "stream",
          "text": [
            "INFO:tensorflow:Skipping download_and_prepare for splits [<Split.TRAIN: 'train'>] as all files exist.\n",
            "INFO:tensorflow:Skipping download_and_prepare for splits [<Split.TEST: 'test'>] as all files exist.\n"
          ],
          "name": "stdout"
        },
        {
          "output_type": "execute_result",
          "data": {
            "text/plain": [
              "<MapDataset shapes: {input: (28, 28, 1), target: ()}, types: {input: tf.uint8, target: tf.int64}>"
            ]
          },
          "metadata": {
            "tags": []
          },
          "execution_count": 7
        }
      ]
    },
    {
      "metadata": {
        "id": "u-GAxR79hGTr",
        "colab_type": "text"
      },
      "cell_type": "markdown",
      "source": [
        "## Feature dictionaries\n",
        "\n",
        "All `tfds` datasets contain feature dictionaries mapping feature names to Tensor values. A typical dataset, like MNIST, will have 2 keys: `\"input\"` and `\"target\"`. Below we inspect a single record."
      ]
    },
    {
      "metadata": {
        "id": "YHE21nkHLrER",
        "colab_type": "code",
        "colab": {
          "base_uri": "https://localhost:8080/",
          "height": 364
        },
        "outputId": "18d40baa-e0bf-4920-c575-16478e5f3c5e"
      },
      "cell_type": "code",
      "source": [
        "mnist_example, = mnist_train.take(1)\n",
        "image, label = mnist_example[\"input\"], mnist_example[\"target\"]\n",
        "\n",
        "plt.imshow(image.numpy()[:, :, 0].astype(np.float32), cmap=plt.get_cmap('gray'))\n",
        "print(\"Label: %d\" % label.numpy())"
      ],
      "execution_count": 8,
      "outputs": [
        {
          "output_type": "stream",
          "text": [
            "Label: 8\n"
          ],
          "name": "stdout"
        },
        {
          "output_type": "display_data",
          "data": {
            "image/png": "[encoded data removed]",
            "text/plain": [
              "<matplotlib.figure.Figure at 0x7fbba77fe850>"
            ]
          },
          "metadata": {
            "tags": []
          }
        }
      ]
    },
    {
      "metadata": {
        "id": "EW-kEK_mhbhy",
        "colab_type": "text"
      },
      "cell_type": "markdown",
      "source": [
        "## `DatasetBuilder`\n",
        "\n",
        "`tfds.load` is really a thin conveninence wrapper around `DatasetBuilder`. We can accomplish the same as above directly with the MNIST `DatasetBuilder`."
      ]
    },
    {
      "metadata": {
        "id": "9FDDJXmBhpQ4",
        "colab_type": "code",
        "colab": {
          "base_uri": "https://localhost:8080/",
          "height": 68
        },
        "outputId": "b7a87518-0c50-4bdb-9055-9ea65f94eb30"
      },
      "cell_type": "code",
      "source": [
        "mnist_builder = tfds.builder(\"mnist\", data_dir=DATA_DIR)\n",
        "mnist_builder.download_and_prepare()\n",
        "mnist_train = mnist_builder.as_dataset(split=tfds.Split.TRAIN)\n",
        "mnist_train"
      ],
      "execution_count": 9,
      "outputs": [
        {
          "output_type": "stream",
          "text": [
            "INFO:tensorflow:Skipping download_and_prepare for splits [<Split.TRAIN: 'train'>] as all files exist.\n",
            "INFO:tensorflow:Skipping download_and_prepare for splits [<Split.TEST: 'test'>] as all files exist.\n"
          ],
          "name": "stdout"
        },
        {
          "output_type": "execute_result",
          "data": {
            "text/plain": [
              "<MapDataset shapes: {input: (28, 28, 1), target: ()}, types: {input: tf.uint8, target: tf.int64}>"
            ]
          },
          "metadata": {
            "tags": []
          },
          "execution_count": 9
        }
      ]
    },
    {
      "metadata": {
        "id": "7tlVOAzLlKqc",
        "colab_type": "text"
      },
      "cell_type": "markdown",
      "source": [
        "## Input pipelines\n",
        "\n",
        "Once you have a `tf.data.Dataset` object, it's simple to define the rest of an input pipeline suitable for model training by using the [`tf.data` API](https://www.tensorflow.org/guide/datasets).\n",
        "\n",
        "Here we'll repeat the dataset so that we have an infinite stream of examples, shuffle, and create batches of 32."
      ]
    },
    {
      "metadata": {
        "id": "9OQZqGZMlSE8",
        "colab_type": "code",
        "colab": {
          "base_uri": "https://localhost:8080/",
          "height": 34
        },
        "outputId": "f298fb22-6db2-46ae-89a0-5db899ac8c84"
      },
      "cell_type": "code",
      "source": [
        "mnist_train = mnist_train.repeat().shuffle(1024).batch(32)\n",
        "\n",
        "# prefetch will enable the input pipeline to asynchronously fetch batches while\n",
        "# your model is training.\n",
        "mnist_train = mnist_train.prefetch(100)\n",
        "\n",
        "# Now you could loop over batches of the dataset and train\n",
        "# for batch in mnist_train:\n",
        "#   ..."
      ],
      "execution_count": 10,
      "outputs": [
        {
          "output_type": "execute_result",
          "data": {
            "text/plain": [
              "<PrefetchDataset shapes: {input: (?, 28, 28, 1), target: (?,)}, types: {input: tf.uint8, target: tf.int64}>"
            ]
          },
          "metadata": {
            "tags": []
          },
          "execution_count": 10
        }
      ]
    }
  ]
}